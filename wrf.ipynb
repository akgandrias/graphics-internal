{
 "cells": [
  {
   "cell_type": "code",
   "execution_count": 2,
   "id": "9fb34880",
   "metadata": {},
   "outputs": [],
   "source": [
    "from netCDF4 import Dataset\n",
    "from wrf import getvar\n",
    "\n",
    "ncfile = Dataset(\"2023-07-04_00_00_00/data/d01/wrfout_d01_2023-07-04_00_00_00.hdf\")\n",
    "#     \"wrfout_d01_2016-10-07_00_00_00\")\n",
    "\n",
    "# Get the Sea Level Pressure\n",
    "slp = getvar(ncfile, \"slp\")"
   ]
  },
  {
   "cell_type": "code",
   "execution_count": 3,
   "id": "bca49b05",
   "metadata": {},
   "outputs": [
    {
     "name": "stdout",
     "output_type": "stream",
     "text": [
      "<xarray.DataArray 'slp' (south_north: 172, west_east: 220)>\n",
      "array([[1007.2938 , 1007.2525 , 1007.2127 , ...,  998.818  ,  998.78015,\n",
      "         998.74493],\n",
      "       [1007.2961 , 1007.2553 , 1007.2159 , ...,  998.8144 ,  998.77673,\n",
      "         998.7417 ],\n",
      "       [1007.2995 , 1007.2589 , 1007.2201 , ...,  998.8106 ,  998.774  ,\n",
      "         998.7387 ],\n",
      "       ...,\n",
      "       [1006.9674 , 1006.9237 , 1006.87256, ...,  996.0202 ,  995.9876 ,\n",
      "         995.95526],\n",
      "       [1006.95734, 1006.9158 , 1006.86566, ...,  995.98315,  995.95087,\n",
      "         995.92084],\n",
      "       [1006.9447 , 1006.9047 , 1006.8562 , ...,  995.945  ,  995.91425,\n",
      "         995.8859 ]], dtype=float32)\n",
      "Coordinates:\n",
      "    XLONG    (south_north, west_east) float32 -12.5 -12.45 ... -2.082 -2.032\n",
      "    XLAT     (south_north, west_east) float32 60.01 60.02 60.02 ... 63.88 63.88\n",
      "    XTIME    float32 0.0\n",
      "    Time     datetime64[ns] 2023-07-04\n",
      "Dimensions without coordinates: south_north, west_east\n",
      "Attributes:\n",
      "    FieldType:    104\n",
      "    MemoryOrder:  XY\n",
      "    description:  sea level pressure\n",
      "    units:        hPa\n",
      "    stagger:      \n",
      "    coordinates:  XLONG XLAT XTIME\n",
      "    projection:   LambertConformal(stand_lon=-7.0, moad_cen_lat=62.0299949645...\n"
     ]
    }
   ],
   "source": [
    "print(slp)"
   ]
  },
  {
   "cell_type": "code",
   "execution_count": 4,
   "id": "f8c6a37c",
   "metadata": {},
   "outputs": [
    {
     "name": "stdout",
     "output_type": "stream",
     "text": [
      "<xarray.DataArray 'cloudfrac' (low_mid_high: 3, south_north: 172, west_east: 220)>\n",
      "array([[[0.9894864 , 0.99207705, 0.99427825, ..., 0.73977447,\n",
      "         0.7116342 , 0.64994353],\n",
      "        [0.9858148 , 0.99083376, 0.99444276, ..., 0.6999512 ,\n",
      "         0.690278  , 0.6707617 ],\n",
      "        [0.98130983, 0.989375  , 0.99470156, ..., 0.68273896,\n",
      "         0.6887833 , 0.69693357],\n",
      "        ...,\n",
      "        [0.9188684 , 0.9121042 , 0.90468234, ..., 0.99811524,\n",
      "         0.9974908 , 0.99736667],\n",
      "        [0.9120715 , 0.9111072 , 0.9059418 , ..., 0.99938476,\n",
      "         0.9985773 , 0.9994324 ],\n",
      "        [0.91148436, 0.9115524 , 0.9050012 , ..., 1.        ,\n",
      "         1.        , 1.        ]],\n",
      "\n",
      "       [[0.        , 0.        , 0.        , ..., 0.497424  ,\n",
      "         0.4116275 , 0.31142792],\n",
      "        [0.        , 0.        , 0.        , ..., 0.45135528,\n",
      "         0.37597075, 0.28857392],\n",
      "        [0.        , 0.        , 0.        , ..., 0.40616667,\n",
      "         0.3432602 , 0.26956636],\n",
      "...\n",
      "        [0.2537326 , 0.27851287, 0.29187867, ..., 0.91943544,\n",
      "         0.9235623 , 0.92844665],\n",
      "        [0.2622217 , 0.28678864, 0.30018035, ..., 0.91806704,\n",
      "         0.9241519 , 0.93062073],\n",
      "        [0.26956603, 0.29356018, 0.3072528 , ..., 0.91278654,\n",
      "         0.92135775, 0.93019015]],\n",
      "\n",
      "       [[0.38690263, 0.39112586, 0.39431152, ..., 0.38400173,\n",
      "         0.37691498, 0.36427957],\n",
      "        [0.39677563, 0.39995518, 0.4019905 , ..., 0.36902714,\n",
      "         0.37202492, 0.369553  ],\n",
      "        [0.4053026 , 0.40704593, 0.4077383 , ..., 0.3462904 ,\n",
      "         0.3592167 , 0.36655197],\n",
      "        ...,\n",
      "        [0.10592671, 0.10953999, 0.1089035 , ..., 0.        ,\n",
      "         0.        , 0.        ],\n",
      "        [0.10145874, 0.1057209 , 0.10647011, ..., 0.        ,\n",
      "         0.        , 0.        ],\n",
      "        [0.09632997, 0.10106182, 0.10336991, ..., 0.        ,\n",
      "         0.        , 0.        ]]], dtype=float32)\n",
      "Coordinates:\n",
      "    XLONG         (south_north, west_east) float32 -12.5 -12.45 ... -2.032\n",
      "    XLAT          (south_north, west_east) float32 60.01 60.02 ... 63.88 63.88\n",
      "    XTIME         float32 0.0\n",
      "    Time          datetime64[ns] 2023-07-04\n",
      "  * low_mid_high  (low_mid_high) <U4 'low' 'mid' 'high'\n",
      "Dimensions without coordinates: south_north, west_east\n",
      "Attributes:\n",
      "    FieldType:      104\n",
      "    MemoryOrder:    XY\n",
      "    description:    low, mid, high clouds\n",
      "    units:          %\n",
      "    stagger:        \n",
      "    coordinates:    XLONG XLAT XTIME\n",
      "    projection:     LambertConformal(stand_lon=-7.0, moad_cen_lat=62.02999496...\n",
      "    low_thresh:     300.0 m\n",
      "    mid_thresh:     2000.0 m\n",
      "    high_thresh:    6000.0 m\n",
      "    _FillValue:     9.969209968386869e+36\n",
      "    missing_value:  9.969209968386869e+36\n"
     ]
    }
   ],
   "source": [
    "c1 = getvar(ncfile, \"cloudfrac\")\n",
    "print(c1)"
   ]
  }
 ],
 "metadata": {
  "kernelspec": {
   "display_name": "Python 3 (ipykernel)",
   "language": "python",
   "name": "python3"
  },
  "language_info": {
   "codemirror_mode": {
    "name": "ipython",
    "version": 3
   },
   "file_extension": ".py",
   "mimetype": "text/x-python",
   "name": "python",
   "nbconvert_exporter": "python",
   "pygments_lexer": "ipython3",
   "version": "3.8.10"
  }
 },
 "nbformat": 4,
 "nbformat_minor": 5
}
